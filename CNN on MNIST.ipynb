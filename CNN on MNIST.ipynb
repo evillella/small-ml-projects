{
 "cells": [
  {
   "cell_type": "code",
   "execution_count": null,
   "metadata": {},
   "outputs": [],
   "source": [
    "# Import TensorFlow\n",
    "#from __future__ import absolute_import, division, print_function, unicode_literals\n",
    "import tensorflow as tf\n",
    "from tensorflow.keras.layers import Dense, Flatten, Conv2D, MaxPooling2D\n",
    "from tensorflow import keras\n",
    "print('TensorFlow imported')\n",
    "\n",
    "# Load MNIST\n",
    "mnist = tf.keras.datasets.mnist\n",
    "\n",
    "(X_train, y_train), (X_test, y_test) = mnist.load_data()\n",
    "X_train, X_test = X_train / 255.0, X_test / 255.0 #normalize each pixel to be in [0,1]\n",
    "X_valid, X_train = X_train[:5000], X_train[5000:]\n",
    "y_valid, y_train = y_train[:5000], y_train[5000:]\n",
    "print('MNIST loaded, normalized and split')\n",
    "\n",
    "from tensorflow.keras.optimizers import Adam\n",
    "from tensorflow.keras.layers import BatchNormalization, Flatten, Dense, Dropout\n",
    "from tensorflow.keras import Sequential\n",
    "\n",
    "# Make CNN model\n",
    "\n",
    "def make_model(activation='elu',learning_rate=.001):\n",
    "    \n",
    "    model = Sequential([\n",
    "        Conv2D(32, (3, 3), activation = 'relu', input_shape = (28,28,1)),\n",
    "        MaxPooling2D((2,2)),\n",
    "        Conv2D(64, (3, 3), activation = 'relu'),\n",
    "        MaxPooling2D((2,2)),\n",
    "        Conv2D(64, (3, 3), activation = 'relu'),\n",
    "        Flatten(),\n",
    "        Dense(64, activation= 'relu', kernel_initializer='he_normal'),\n",
    "        Dense(10)\n",
    "    ])\n",
    "    # (b) compile with adam optimizer and early stopping\n",
    "\n",
    "# Make adam optimizer with parameter learning_rate\n",
    "    optimizer = keras.optimizers.Adam(learning_rate=learning_rate)\n",
    "\n",
    "    model.compile(optimizer=optimizer,\n",
    "              loss=tf.keras.losses.SparseCategoricalCrossentropy(from_logits=True),\n",
    "              metrics=['accuracy'])\n",
    "\n",
    "    return model"
   ]
  },
  {
   "cell_type": "code",
   "execution_count": null,
   "metadata": {},
   "outputs": [],
   "source": [
    "# Construct model, fit with callbacks\n",
    "\n",
    "from tensorflow.keras.callbacks import EarlyStopping\n",
    "from tensorflow import reshape\n",
    "\n",
    "\n",
    "model = make_model()\n",
    "\n",
    "callback = EarlyStopping(monitor = 'accuracy', patience=3) # this will do early stopping\n",
    "\n",
    "model.fit(reshape(X_train, (len(X_train), 28, 28, 1)), y_train, epochs=20, callbacks=[callback],\n",
    "          validation_data=(reshape(X_valid, (len(X_valid), 28, 28, 1)), y_valid))"
   ]
  },
  {
   "cell_type": "code",
   "execution_count": null,
   "metadata": {},
   "outputs": [],
   "source": [
    "# check model on test set\n",
    "results = model.evaluate(reshape(X_test, (len(X_test), 28, 28, 1)), y_test, batch_size=128)\n",
    "print('test loss, test acc:', results)"
   ]
  }
 ],
 "metadata": {
  "kernelspec": {
   "display_name": "Python 3",
   "language": "python",
   "name": "python3"
  },
  "language_info": {
   "codemirror_mode": {
    "name": "ipython",
    "version": 3
   },
   "file_extension": ".py",
   "mimetype": "text/x-python",
   "name": "python",
   "nbconvert_exporter": "python",
   "pygments_lexer": "ipython3",
   "version": "3.7.6"
  }
 },
 "nbformat": 4,
 "nbformat_minor": 4
}
