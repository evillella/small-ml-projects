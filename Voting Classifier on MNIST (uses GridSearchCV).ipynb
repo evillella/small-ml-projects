{
 "cells": [
  {
   "cell_type": "markdown",
   "metadata": {},
   "source": [
    "# Voting Classifier on MNIST\n",
    "### Load MNIST, split into train, validation, test."
   ]
  },
  {
   "cell_type": "code",
   "execution_count": 1,
   "metadata": {},
   "outputs": [
    {
     "name": "stdout",
     "output_type": "stream",
     "text": [
      "10000\n",
      "50000\n",
      "10000\n"
     ]
    }
   ],
   "source": [
    "from sklearn.datasets import fetch_openml\n",
    "from sklearn.linear_model import LogisticRegression\n",
    "from sklearn.model_selection import train_test_split\n",
    "from sklearn.preprocessing import StandardScaler\n",
    "\n",
    "X, y = fetch_openml('mnist_784', version=1, return_X_y=True)\n",
    "\n",
    "X_tmp, X_test, y_tmp, y_test = train_test_split(X,y,test_size = 1./7.)\n",
    "X_train, X_val, y_train, y_val = train_test_split(X_tmp,y_tmp,test_size = 1./6.)\n",
    "\n",
    "print(len(X_test))\n",
    "print(len(X_train))\n",
    "print(len(X_val))"
   ]
  },
  {
   "cell_type": "markdown",
   "metadata": {},
   "source": [
    "### Train a random forest classifier"
   ]
  },
  {
   "cell_type": "code",
   "execution_count": 3,
   "metadata": {},
   "outputs": [
    {
     "data": {
      "text/plain": [
       "0.8618"
      ]
     },
     "execution_count": 3,
     "metadata": {},
     "output_type": "execute_result"
    }
   ],
   "source": [
    "from sklearn.ensemble import RandomForestClassifier\n",
    "from sklearn.model_selection import GridSearchCV\n",
    "from sklearn.metrics import accuracy_score\n",
    "\n",
    "rnd_forest = RandomForestClassifier(bootstrap=True, ccp_alpha=0.0, class_weight=None,\n",
    "                       criterion='gini', max_depth=15, max_features='auto',\n",
    "                       max_leaf_nodes=25, max_samples=None,\n",
    "                       min_impurity_decrease=0.0, min_impurity_split=None,\n",
    "                       min_samples_leaf=2, min_samples_split=6,\n",
    "                       min_weight_fraction_leaf=0, n_estimators=1000,\n",
    "                       n_jobs=None, oob_score=False, random_state=None,\n",
    "                       verbose=0, warm_start=False)\n",
    "rnd_forest.fit(X_train,y_train)\n",
    "  \n",
    "#grid = {'n_estimators':[10,100,1000],'max_depth':[8,10,15], 'min_samples_split':[6,8],\n",
    "#        'min_samples_leaf':[1,2],'min_weight_fraction_leaf':[0,.1],'max_leaf_nodes':[20,25]}\n",
    "                                     \n",
    "#searcher = GridSearchCV(estimator=rnd_forest,param_grid=grid, n_jobs=-1, cv=3, verbose=10)\n",
    "\n",
    "#searcher.fit(X_train,y_train)\n",
    "\n",
    "#searcher.best_estimator_ #RandomForestClassifier(bootstrap=True, ccp_alpha=0.0, class_weight=None,\n",
    "#                       criterion='gini', max_depth=15, max_features='auto',\n",
    "#                       max_leaf_nodes=25, max_samples=None,\n",
    "#                       min_impurity_decrease=0.0, min_impurity_split=None,\n",
    "#                       min_samples_leaf=2, min_samples_split=6,\n",
    "#                       min_weight_fraction_leaf=0, n_estimators=1000,\n",
    "#                       n_jobs=None, oob_score=False, random_state=None,\n",
    "#                       verbose=0, warm_start=False)\n",
    "\n",
    "accuracy_score(y_val, rnd_forest.predict(X_val)) #= .8618"
   ]
  },
  {
   "cell_type": "markdown",
   "metadata": {},
   "source": [
    "### Train Extra Trees Classifier"
   ]
  },
  {
   "cell_type": "code",
   "execution_count": 3,
   "metadata": {},
   "outputs": [
    {
     "data": {
      "text/plain": [
       "0.9701"
      ]
     },
     "execution_count": 3,
     "metadata": {},
     "output_type": "execute_result"
    }
   ],
   "source": [
    "from sklearn.ensemble import ExtraTreesClassifier\n",
    "from sklearn.model_selection import GridSearchCV\n",
    "from sklearn.metrics import accuracy_score\n",
    "\n",
    "ext_trees = ExtraTreesClassifier(n_estimators = 300, max_depth = 35, min_samples_split=5)\n",
    "\n",
    "ext_trees.fit(X_train,y_train)\n",
    "\n",
    "#grid = {'n_estimators':[300,500], 'max_depth':[30,35]}\n",
    "\n",
    "#searcher = GridSearchCV(estimator= ext_trees, param_grid = grid, n_jobs=-1,cv=3,verbose=8)\n",
    "\n",
    "#searcher.fit(X_train,y_train)\n",
    "\n",
    "#searcher.best_estimator_\n",
    "\n",
    "accuracy_score(y_val,ext_trees.predict(X_val)) #= .9701"
   ]
  },
  {
   "cell_type": "markdown",
   "metadata": {},
   "source": [
    "### Train SVM"
   ]
  },
  {
   "cell_type": "code",
   "execution_count": null,
   "metadata": {},
   "outputs": [
    {
     "name": "stdout",
     "output_type": "stream",
     "text": [
      "Fitting 3 folds for each of 8 candidates, totalling 24 fits\n"
     ]
    },
    {
     "name": "stderr",
     "output_type": "stream",
     "text": [
      "[Parallel(n_jobs=-1)]: Using backend LokyBackend with 4 concurrent workers.\n"
     ]
    }
   ],
   "source": [
    "from sklearn.svm import SVC\n",
    "from sklearn.model_selection import GridSearchCV\n",
    "from sklearn.metrics import accuracy_score\n",
    "\n",
    "svc = SVC()\n",
    "\n",
    "grid = {'C':[.5], 'kernel':['rbf','linear', 'poly', 'sigmoid'], 'degree':[3], 'gamma':['scale','auto'],\n",
    "        'coef0':[0.0], 'tol':[0.001] }\n",
    "\n",
    "searcher = GridSearchCV(estimator=svc, param_grid = grid, n_jobs = -1, cv=3, verbose=9)\n",
    "\n",
    "searcher.fit(X_train,y_train)\n",
    "\n",
    "searcher.best_estimator_"
   ]
  },
  {
   "cell_type": "markdown",
   "metadata": {},
   "source": [
    "### Collect into Voting Classifier ensemble"
   ]
  },
  {
   "cell_type": "code",
   "execution_count": null,
   "metadata": {},
   "outputs": [],
   "source": [
    "from sklearn.ensemble import VotingClassifier\n",
    "from sklearn.metrics impoert accuracy_score\n",
    "\n",
    "voter = VotingClassifier([('rnd_forest',rnd_forest),\n",
    "                         ('ext_trees',ext_trees),\n",
    "                         ('svc',svc)])\n",
    "\n",
    "voter.fit(X_train,y_train)\n",
    "\n",
    "accuracy_score(y_val,voter.predict(X_val))"
   ]
  },
  {
   "cell_type": "code",
   "execution_count": null,
   "metadata": {},
   "outputs": [],
   "source": []
  }
 ],
 "metadata": {
  "kernelspec": {
   "display_name": "Python 3",
   "language": "python",
   "name": "python3"
  },
  "language_info": {
   "codemirror_mode": {
    "name": "ipython",
    "version": 3
   },
   "file_extension": ".py",
   "mimetype": "text/x-python",
   "name": "python",
   "nbconvert_exporter": "python",
   "pygments_lexer": "ipython3",
   "version": "3.7.6"
  }
 },
 "nbformat": 4,
 "nbformat_minor": 4
}
